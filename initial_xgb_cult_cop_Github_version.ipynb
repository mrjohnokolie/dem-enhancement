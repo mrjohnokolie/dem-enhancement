{
  "cells": [
    {
      "cell_type": "markdown",
      "metadata": {
        "id": "view-in-github",
        "colab_type": "text"
      },
      "source": [
        "<a href=\"https://colab.research.google.com/github/mrjohnokolie/dem-enhancement/blob/main/initial_xgb_cult_cop_Github_version.ipynb\" target=\"_parent\"><img src=\"https://colab.research.google.com/assets/colab-badge.svg\" alt=\"Open In Colab\"/></a>"
      ]
    },
    {
      "cell_type": "code",
      "source": [
        "from numpy.random import seed\n",
        "seed(42)"
      ],
      "metadata": {
        "id": "kHT77LzxQB17"
      },
      "execution_count": 3,
      "outputs": []
    },
    {
      "cell_type": "code",
      "execution_count": 4,
      "metadata": {
        "colab": {
          "base_uri": "https://localhost:8080/",
          "height": 73
        },
        "id": "QMCb7K1PBfLN",
        "outputId": "94cdf4be-4990-486e-dc8e-84bd70871988"
      },
      "outputs": [
        {
          "output_type": "display_data",
          "data": {
            "text/plain": [
              "<IPython.core.display.HTML object>"
            ],
            "text/html": [
              "\n",
              "     <input type=\"file\" id=\"files-ff4d6130-dcaf-4927-9220-65f08c853e5b\" name=\"files[]\" multiple disabled\n",
              "        style=\"border:none\" />\n",
              "     <output id=\"result-ff4d6130-dcaf-4927-9220-65f08c853e5b\">\n",
              "      Upload widget is only available when the cell has been executed in the\n",
              "      current browser session. Please rerun this cell to enable.\n",
              "      </output>\n",
              "      <script>// Copyright 2017 Google LLC\n",
              "//\n",
              "// Licensed under the Apache License, Version 2.0 (the \"License\");\n",
              "// you may not use this file except in compliance with the License.\n",
              "// You may obtain a copy of the License at\n",
              "//\n",
              "//      http://www.apache.org/licenses/LICENSE-2.0\n",
              "//\n",
              "// Unless required by applicable law or agreed to in writing, software\n",
              "// distributed under the License is distributed on an \"AS IS\" BASIS,\n",
              "// WITHOUT WARRANTIES OR CONDITIONS OF ANY KIND, either express or implied.\n",
              "// See the License for the specific language governing permissions and\n",
              "// limitations under the License.\n",
              "\n",
              "/**\n",
              " * @fileoverview Helpers for google.colab Python module.\n",
              " */\n",
              "(function(scope) {\n",
              "function span(text, styleAttributes = {}) {\n",
              "  const element = document.createElement('span');\n",
              "  element.textContent = text;\n",
              "  for (const key of Object.keys(styleAttributes)) {\n",
              "    element.style[key] = styleAttributes[key];\n",
              "  }\n",
              "  return element;\n",
              "}\n",
              "\n",
              "// Max number of bytes which will be uploaded at a time.\n",
              "const MAX_PAYLOAD_SIZE = 100 * 1024;\n",
              "\n",
              "function _uploadFiles(inputId, outputId) {\n",
              "  const steps = uploadFilesStep(inputId, outputId);\n",
              "  const outputElement = document.getElementById(outputId);\n",
              "  // Cache steps on the outputElement to make it available for the next call\n",
              "  // to uploadFilesContinue from Python.\n",
              "  outputElement.steps = steps;\n",
              "\n",
              "  return _uploadFilesContinue(outputId);\n",
              "}\n",
              "\n",
              "// This is roughly an async generator (not supported in the browser yet),\n",
              "// where there are multiple asynchronous steps and the Python side is going\n",
              "// to poll for completion of each step.\n",
              "// This uses a Promise to block the python side on completion of each step,\n",
              "// then passes the result of the previous step as the input to the next step.\n",
              "function _uploadFilesContinue(outputId) {\n",
              "  const outputElement = document.getElementById(outputId);\n",
              "  const steps = outputElement.steps;\n",
              "\n",
              "  const next = steps.next(outputElement.lastPromiseValue);\n",
              "  return Promise.resolve(next.value.promise).then((value) => {\n",
              "    // Cache the last promise value to make it available to the next\n",
              "    // step of the generator.\n",
              "    outputElement.lastPromiseValue = value;\n",
              "    return next.value.response;\n",
              "  });\n",
              "}\n",
              "\n",
              "/**\n",
              " * Generator function which is called between each async step of the upload\n",
              " * process.\n",
              " * @param {string} inputId Element ID of the input file picker element.\n",
              " * @param {string} outputId Element ID of the output display.\n",
              " * @return {!Iterable<!Object>} Iterable of next steps.\n",
              " */\n",
              "function* uploadFilesStep(inputId, outputId) {\n",
              "  const inputElement = document.getElementById(inputId);\n",
              "  inputElement.disabled = false;\n",
              "\n",
              "  const outputElement = document.getElementById(outputId);\n",
              "  outputElement.innerHTML = '';\n",
              "\n",
              "  const pickedPromise = new Promise((resolve) => {\n",
              "    inputElement.addEventListener('change', (e) => {\n",
              "      resolve(e.target.files);\n",
              "    });\n",
              "  });\n",
              "\n",
              "  const cancel = document.createElement('button');\n",
              "  inputElement.parentElement.appendChild(cancel);\n",
              "  cancel.textContent = 'Cancel upload';\n",
              "  const cancelPromise = new Promise((resolve) => {\n",
              "    cancel.onclick = () => {\n",
              "      resolve(null);\n",
              "    };\n",
              "  });\n",
              "\n",
              "  // Wait for the user to pick the files.\n",
              "  const files = yield {\n",
              "    promise: Promise.race([pickedPromise, cancelPromise]),\n",
              "    response: {\n",
              "      action: 'starting',\n",
              "    }\n",
              "  };\n",
              "\n",
              "  cancel.remove();\n",
              "\n",
              "  // Disable the input element since further picks are not allowed.\n",
              "  inputElement.disabled = true;\n",
              "\n",
              "  if (!files) {\n",
              "    return {\n",
              "      response: {\n",
              "        action: 'complete',\n",
              "      }\n",
              "    };\n",
              "  }\n",
              "\n",
              "  for (const file of files) {\n",
              "    const li = document.createElement('li');\n",
              "    li.append(span(file.name, {fontWeight: 'bold'}));\n",
              "    li.append(span(\n",
              "        `(${file.type || 'n/a'}) - ${file.size} bytes, ` +\n",
              "        `last modified: ${\n",
              "            file.lastModifiedDate ? file.lastModifiedDate.toLocaleDateString() :\n",
              "                                    'n/a'} - `));\n",
              "    const percent = span('0% done');\n",
              "    li.appendChild(percent);\n",
              "\n",
              "    outputElement.appendChild(li);\n",
              "\n",
              "    const fileDataPromise = new Promise((resolve) => {\n",
              "      const reader = new FileReader();\n",
              "      reader.onload = (e) => {\n",
              "        resolve(e.target.result);\n",
              "      };\n",
              "      reader.readAsArrayBuffer(file);\n",
              "    });\n",
              "    // Wait for the data to be ready.\n",
              "    let fileData = yield {\n",
              "      promise: fileDataPromise,\n",
              "      response: {\n",
              "        action: 'continue',\n",
              "      }\n",
              "    };\n",
              "\n",
              "    // Use a chunked sending to avoid message size limits. See b/62115660.\n",
              "    let position = 0;\n",
              "    do {\n",
              "      const length = Math.min(fileData.byteLength - position, MAX_PAYLOAD_SIZE);\n",
              "      const chunk = new Uint8Array(fileData, position, length);\n",
              "      position += length;\n",
              "\n",
              "      const base64 = btoa(String.fromCharCode.apply(null, chunk));\n",
              "      yield {\n",
              "        response: {\n",
              "          action: 'append',\n",
              "          file: file.name,\n",
              "          data: base64,\n",
              "        },\n",
              "      };\n",
              "\n",
              "      let percentDone = fileData.byteLength === 0 ?\n",
              "          100 :\n",
              "          Math.round((position / fileData.byteLength) * 100);\n",
              "      percent.textContent = `${percentDone}% done`;\n",
              "\n",
              "    } while (position < fileData.byteLength);\n",
              "  }\n",
              "\n",
              "  // All done.\n",
              "  yield {\n",
              "    response: {\n",
              "      action: 'complete',\n",
              "    }\n",
              "  };\n",
              "}\n",
              "\n",
              "scope.google = scope.google || {};\n",
              "scope.google.colab = scope.google.colab || {};\n",
              "scope.google.colab._files = {\n",
              "  _uploadFiles,\n",
              "  _uploadFilesContinue,\n",
              "};\n",
              "})(self);\n",
              "</script> "
            ]
          },
          "metadata": {}
        },
        {
          "output_type": "stream",
          "name": "stdout",
          "text": [
            "Saving LIDAR_30m_cubic_pts_clean_parameters_egm08_clean_t41_v43_C_merge.csv to LIDAR_30m_cubic_pts_clean_parameters_egm08_clean_t41_v43_C_merge.csv\n"
          ]
        }
      ],
      "source": [
        "\n",
        "\n",
        "# Import training_test data (Site 1)\n",
        "from google.colab import files\n",
        "uploaded = files.upload()"
      ]
    },
    {
      "cell_type": "code",
      "execution_count": 5,
      "metadata": {
        "colab": {
          "base_uri": "https://localhost:8080/"
        },
        "id": "BAWTUAnDBEtP",
        "outputId": "0e59e3e4-c001-4348-8993-a262575af720"
      },
      "outputs": [
        {
          "output_type": "stream",
          "name": "stdout",
          "text": [
            "Requirement already satisfied: xgboost in /usr/local/lib/python3.10/dist-packages (2.0.3)\n",
            "Requirement already satisfied: numpy in /usr/local/lib/python3.10/dist-packages (from xgboost) (1.25.2)\n",
            "Requirement already satisfied: scipy in /usr/local/lib/python3.10/dist-packages (from xgboost) (1.11.4)\n",
            "Collecting catboost\n",
            "  Downloading catboost-1.2.3-cp310-cp310-manylinux2014_x86_64.whl (98.5 MB)\n",
            "\u001b[2K     \u001b[90m━━━━━━━━━━━━━━━━━━━━━━━━━━━━━━━━━━━━━━━━\u001b[0m \u001b[32m98.5/98.5 MB\u001b[0m \u001b[31m7.8 MB/s\u001b[0m eta \u001b[36m0:00:00\u001b[0m\n",
            "\u001b[?25hRequirement already satisfied: graphviz in /usr/local/lib/python3.10/dist-packages (from catboost) (0.20.3)\n",
            "Requirement already satisfied: matplotlib in /usr/local/lib/python3.10/dist-packages (from catboost) (3.7.1)\n",
            "Requirement already satisfied: numpy>=1.16.0 in /usr/local/lib/python3.10/dist-packages (from catboost) (1.25.2)\n",
            "Requirement already satisfied: pandas>=0.24 in /usr/local/lib/python3.10/dist-packages (from catboost) (2.0.3)\n",
            "Requirement already satisfied: scipy in /usr/local/lib/python3.10/dist-packages (from catboost) (1.11.4)\n",
            "Requirement already satisfied: plotly in /usr/local/lib/python3.10/dist-packages (from catboost) (5.15.0)\n",
            "Requirement already satisfied: six in /usr/local/lib/python3.10/dist-packages (from catboost) (1.16.0)\n",
            "Requirement already satisfied: python-dateutil>=2.8.2 in /usr/local/lib/python3.10/dist-packages (from pandas>=0.24->catboost) (2.8.2)\n",
            "Requirement already satisfied: pytz>=2020.1 in /usr/local/lib/python3.10/dist-packages (from pandas>=0.24->catboost) (2023.4)\n",
            "Requirement already satisfied: tzdata>=2022.1 in /usr/local/lib/python3.10/dist-packages (from pandas>=0.24->catboost) (2024.1)\n",
            "Requirement already satisfied: contourpy>=1.0.1 in /usr/local/lib/python3.10/dist-packages (from matplotlib->catboost) (1.2.1)\n",
            "Requirement already satisfied: cycler>=0.10 in /usr/local/lib/python3.10/dist-packages (from matplotlib->catboost) (0.12.1)\n",
            "Requirement already satisfied: fonttools>=4.22.0 in /usr/local/lib/python3.10/dist-packages (from matplotlib->catboost) (4.50.0)\n",
            "Requirement already satisfied: kiwisolver>=1.0.1 in /usr/local/lib/python3.10/dist-packages (from matplotlib->catboost) (1.4.5)\n",
            "Requirement already satisfied: packaging>=20.0 in /usr/local/lib/python3.10/dist-packages (from matplotlib->catboost) (24.0)\n",
            "Requirement already satisfied: pillow>=6.2.0 in /usr/local/lib/python3.10/dist-packages (from matplotlib->catboost) (9.4.0)\n",
            "Requirement already satisfied: pyparsing>=2.3.1 in /usr/local/lib/python3.10/dist-packages (from matplotlib->catboost) (3.1.2)\n",
            "Requirement already satisfied: tenacity>=6.2.0 in /usr/local/lib/python3.10/dist-packages (from plotly->catboost) (8.2.3)\n",
            "Installing collected packages: catboost\n",
            "Successfully installed catboost-1.2.3\n",
            "Requirement already satisfied: lightgbm in /usr/local/lib/python3.10/dist-packages (4.1.0)\n",
            "Requirement already satisfied: numpy in /usr/local/lib/python3.10/dist-packages (from lightgbm) (1.25.2)\n",
            "Requirement already satisfied: scipy in /usr/local/lib/python3.10/dist-packages (from lightgbm) (1.11.4)\n",
            "Collecting ngboost\n",
            "  Downloading ngboost-0.5.1-py3-none-any.whl (33 kB)\n",
            "Collecting lifelines>=0.25 (from ngboost)\n",
            "  Downloading lifelines-0.28.0-py3-none-any.whl (349 kB)\n",
            "\u001b[2K     \u001b[90m━━━━━━━━━━━━━━━━━━━━━━━━━━━━━━━━━━━━━━━━\u001b[0m \u001b[32m349.2/349.2 kB\u001b[0m \u001b[31m11.4 MB/s\u001b[0m eta \u001b[36m0:00:00\u001b[0m\n",
            "\u001b[?25hRequirement already satisfied: numpy>=1.21.2 in /usr/local/lib/python3.10/dist-packages (from ngboost) (1.25.2)\n",
            "Requirement already satisfied: scikit-learn>=1.0.2 in /usr/local/lib/python3.10/dist-packages (from ngboost) (1.2.2)\n",
            "Requirement already satisfied: scipy>=1.7.2 in /usr/local/lib/python3.10/dist-packages (from ngboost) (1.11.4)\n",
            "Requirement already satisfied: tqdm>=4.3 in /usr/local/lib/python3.10/dist-packages (from ngboost) (4.66.2)\n",
            "Requirement already satisfied: pandas>=1.2.0 in /usr/local/lib/python3.10/dist-packages (from lifelines>=0.25->ngboost) (2.0.3)\n",
            "Requirement already satisfied: matplotlib>=3.0 in /usr/local/lib/python3.10/dist-packages (from lifelines>=0.25->ngboost) (3.7.1)\n",
            "Requirement already satisfied: autograd>=1.5 in /usr/local/lib/python3.10/dist-packages (from lifelines>=0.25->ngboost) (1.6.2)\n",
            "Collecting autograd-gamma>=0.3 (from lifelines>=0.25->ngboost)\n",
            "  Downloading autograd-gamma-0.5.0.tar.gz (4.0 kB)\n",
            "  Preparing metadata (setup.py) ... \u001b[?25l\u001b[?25hdone\n",
            "Collecting formulaic>=0.2.2 (from lifelines>=0.25->ngboost)\n",
            "  Downloading formulaic-1.0.1-py3-none-any.whl (94 kB)\n",
            "\u001b[2K     \u001b[90m━━━━━━━━━━━━━━━━━━━━━━━━━━━━━━━━━━━━━━━━\u001b[0m \u001b[32m94.2/94.2 kB\u001b[0m \u001b[31m10.7 MB/s\u001b[0m eta \u001b[36m0:00:00\u001b[0m\n",
            "\u001b[?25hRequirement already satisfied: joblib>=1.1.1 in /usr/local/lib/python3.10/dist-packages (from scikit-learn>=1.0.2->ngboost) (1.3.2)\n",
            "Requirement already satisfied: threadpoolctl>=2.0.0 in /usr/local/lib/python3.10/dist-packages (from scikit-learn>=1.0.2->ngboost) (3.4.0)\n",
            "Requirement already satisfied: future>=0.15.2 in /usr/local/lib/python3.10/dist-packages (from autograd>=1.5->lifelines>=0.25->ngboost) (0.18.3)\n",
            "Collecting interface-meta>=1.2.0 (from formulaic>=0.2.2->lifelines>=0.25->ngboost)\n",
            "  Downloading interface_meta-1.3.0-py3-none-any.whl (14 kB)\n",
            "Requirement already satisfied: typing-extensions>=4.2.0 in /usr/local/lib/python3.10/dist-packages (from formulaic>=0.2.2->lifelines>=0.25->ngboost) (4.10.0)\n",
            "Requirement already satisfied: wrapt>=1.0 in /usr/local/lib/python3.10/dist-packages (from formulaic>=0.2.2->lifelines>=0.25->ngboost) (1.14.1)\n",
            "Requirement already satisfied: contourpy>=1.0.1 in /usr/local/lib/python3.10/dist-packages (from matplotlib>=3.0->lifelines>=0.25->ngboost) (1.2.1)\n",
            "Requirement already satisfied: cycler>=0.10 in /usr/local/lib/python3.10/dist-packages (from matplotlib>=3.0->lifelines>=0.25->ngboost) (0.12.1)\n",
            "Requirement already satisfied: fonttools>=4.22.0 in /usr/local/lib/python3.10/dist-packages (from matplotlib>=3.0->lifelines>=0.25->ngboost) (4.50.0)\n",
            "Requirement already satisfied: kiwisolver>=1.0.1 in /usr/local/lib/python3.10/dist-packages (from matplotlib>=3.0->lifelines>=0.25->ngboost) (1.4.5)\n",
            "Requirement already satisfied: packaging>=20.0 in /usr/local/lib/python3.10/dist-packages (from matplotlib>=3.0->lifelines>=0.25->ngboost) (24.0)\n",
            "Requirement already satisfied: pillow>=6.2.0 in /usr/local/lib/python3.10/dist-packages (from matplotlib>=3.0->lifelines>=0.25->ngboost) (9.4.0)\n",
            "Requirement already satisfied: pyparsing>=2.3.1 in /usr/local/lib/python3.10/dist-packages (from matplotlib>=3.0->lifelines>=0.25->ngboost) (3.1.2)\n",
            "Requirement already satisfied: python-dateutil>=2.7 in /usr/local/lib/python3.10/dist-packages (from matplotlib>=3.0->lifelines>=0.25->ngboost) (2.8.2)\n",
            "Requirement already satisfied: pytz>=2020.1 in /usr/local/lib/python3.10/dist-packages (from pandas>=1.2.0->lifelines>=0.25->ngboost) (2023.4)\n",
            "Requirement already satisfied: tzdata>=2022.1 in /usr/local/lib/python3.10/dist-packages (from pandas>=1.2.0->lifelines>=0.25->ngboost) (2024.1)\n",
            "Requirement already satisfied: six>=1.5 in /usr/local/lib/python3.10/dist-packages (from python-dateutil>=2.7->matplotlib>=3.0->lifelines>=0.25->ngboost) (1.16.0)\n",
            "Building wheels for collected packages: autograd-gamma\n",
            "  Building wheel for autograd-gamma (setup.py) ... \u001b[?25l\u001b[?25hdone\n",
            "  Created wheel for autograd-gamma: filename=autograd_gamma-0.5.0-py3-none-any.whl size=4030 sha256=f189e3d92fdbbf8c89d2708112647591c12fcc2037af35011b7ce2099b178307\n",
            "  Stored in directory: /root/.cache/pip/wheels/25/cc/e0/ef2969164144c899fedb22b338f6703e2b9cf46eeebf254991\n",
            "Successfully built autograd-gamma\n",
            "Installing collected packages: interface-meta, autograd-gamma, formulaic, lifelines, ngboost\n",
            "Successfully installed autograd-gamma-0.5.0 formulaic-1.0.1 interface-meta-1.3.0 lifelines-0.28.0 ngboost-0.5.1\n",
            "Collecting ada-boost\n",
            "  Downloading ada_boost-0.0.1-py3-none-any.whl (1.7 kB)\n",
            "Requirement already satisfied: pytz in /usr/local/lib/python3.10/dist-packages (from ada-boost) (2023.4)\n",
            "Installing collected packages: ada-boost\n",
            "Successfully installed ada-boost-0.0.1\n",
            "Requirement already satisfied: scikit-learn in /usr/local/lib/python3.10/dist-packages (1.2.2)\n",
            "Collecting scikit-learn\n",
            "  Downloading scikit_learn-1.4.2-cp310-cp310-manylinux_2_17_x86_64.manylinux2014_x86_64.whl (12.1 MB)\n",
            "\u001b[2K     \u001b[90m━━━━━━━━━━━━━━━━━━━━━━━━━━━━━━━━━━━━━━━━\u001b[0m \u001b[32m12.1/12.1 MB\u001b[0m \u001b[31m34.0 MB/s\u001b[0m eta \u001b[36m0:00:00\u001b[0m\n",
            "\u001b[?25hRequirement already satisfied: numpy>=1.19.5 in /usr/local/lib/python3.10/dist-packages (from scikit-learn) (1.25.2)\n",
            "Requirement already satisfied: scipy>=1.6.0 in /usr/local/lib/python3.10/dist-packages (from scikit-learn) (1.11.4)\n",
            "Requirement already satisfied: joblib>=1.2.0 in /usr/local/lib/python3.10/dist-packages (from scikit-learn) (1.3.2)\n",
            "Requirement already satisfied: threadpoolctl>=2.0.0 in /usr/local/lib/python3.10/dist-packages (from scikit-learn) (3.4.0)\n",
            "Installing collected packages: scikit-learn\n",
            "  Attempting uninstall: scikit-learn\n",
            "    Found existing installation: scikit-learn 1.2.2\n",
            "    Uninstalling scikit-learn-1.2.2:\n",
            "      Successfully uninstalled scikit-learn-1.2.2\n",
            "Successfully installed scikit-learn-1.4.2\n"
          ]
        }
      ],
      "source": [
        "# Install packages\n",
        "!pip install xgboost\n",
        "!pip install catboost\n",
        "!pip install lightgbm\n",
        "!pip install --upgrade ngboost\n",
        "!pip install ada-boost\n",
        "!pip install -U scikit-learn\n"
      ]
    },
    {
      "cell_type": "code",
      "execution_count": 6,
      "metadata": {
        "id": "z20sxQuWDEE7"
      },
      "outputs": [],
      "source": [
        "# Import libraries\n",
        "\n",
        "import pandas  as pd\n",
        "import numpy   as np\n",
        "\n",
        "import lightgbm as lgb\n",
        "import catboost as cgb\n",
        "import xgboost as xgb\n",
        "\n",
        "import sklearn\n",
        "from sklearn.model_selection import train_test_split\n",
        "from pandas import read_csv\n",
        "from matplotlib import pyplot\n",
        "from numpy import absolute\n",
        "from numpy import mean\n",
        "from numpy import std\n",
        "\n",
        "from sklearn.ensemble import AdaBoostRegressor\n",
        "from sklearn.metrics import mean_squared_error\n",
        "from sklearn.metrics import mean_absolute_error\n",
        "import joblib\n",
        "from matplotlib import pyplot as plt\n",
        "\n",
        "# Accuracy metrics\n",
        "from sklearn.metrics import r2_score\n",
        "from sklearn.metrics import mean_squared_error\n",
        "from sklearn.metrics import mean_absolute_error\n",
        "from sklearn.metrics import max_error\n",
        "from sklearn.metrics import median_absolute_error\n",
        "from sklearn.metrics import mean_absolute_percentage_error\n",
        "\n",
        "import warnings\n",
        "warnings.filterwarnings('ignore')\n",
        "\n",
        "# Additional\n",
        "import math\n",
        "from scipy.stats import uniform\n",
        "import time #2\n",
        "from sklearn.inspection import permutation_importance\n",
        "from xgboost import plot_importance\n",
        "\n",
        "# Regressors\n",
        "from sklearn.ensemble import RandomForestRegressor\n",
        "from sklearn.ensemble import BaggingRegressor\n",
        "from sklearn.ensemble import AdaBoostRegressor\n",
        "from sklearn.ensemble import GradientBoostingRegressor\n",
        "from sklearn.ensemble import HistGradientBoostingRegressor\n",
        "from ngboost import NGBRegressor\n",
        "from xgboost import XGBRegressor\n",
        "from lightgbm import LGBMRegressor\n",
        "from catboost import CatBoostRegressor\n",
        "import seaborn as sns # for correlation heatmap\n"
      ]
    },
    {
      "cell_type": "code",
      "execution_count": 7,
      "metadata": {
        "id": "QNDZk9ptFfjx",
        "colab": {
          "base_uri": "https://localhost:8080/"
        },
        "outputId": "2e970e66-b3d8-4aa5-d3ca-4092af530d34"
      },
      "outputs": [
        {
          "output_type": "execute_result",
          "data": {
            "text/plain": [
              "0         0.139503\n",
              "1        -0.169899\n",
              "2        -0.324997\n",
              "3        -0.158798\n",
              "4         0.397400\n",
              "           ...    \n",
              "46172    12.073002\n",
              "46173     9.778599\n",
              "46174    12.559099\n",
              "46175     4.479000\n",
              "46176    12.201498\n",
              "Name: Elevation Diff, ∆h (m), Length: 46177, dtype: float64"
            ]
          },
          "metadata": {},
          "execution_count": 7
        }
      ],
      "source": [
        "# Read training/test/val data\n",
        "\n",
        "data = pd.read_csv(\"LIDAR_30m_cubic_pts_clean_parameters_egm08_clean_t41_v43_C_merge.csv\")\n",
        "data = data.reset_index()\n",
        "X,y = data.iloc[:,7:15], data.iloc[:,6]\n",
        "y"
      ]
    },
    {
      "cell_type": "code",
      "execution_count": 8,
      "metadata": {
        "id": "ja_donErL1wA",
        "colab": {
          "base_uri": "https://localhost:8080/"
        },
        "outputId": "2c5db45a-21d2-4f43-cd2b-968cb09a2d6a"
      },
      "outputs": [
        {
          "output_type": "stream",
          "name": "stdout",
          "text": [
            "(36941, 8)\n",
            "(36941,)\n",
            "(9236, 8)\n",
            "(9236,)\n"
          ]
        },
        {
          "output_type": "execute_result",
          "data": {
            "text/plain": [
              "(None, None)"
            ]
          },
          "metadata": {},
          "execution_count": 8
        }
      ],
      "source": [
        "# Split training and test data,  Train - 80%, test - 20%\n",
        "\n",
        "X_train, X_val, y_train, y_val = train_test_split(X, y, test_size=0.20, shuffle=True, random_state=42)\n",
        "print(X_train.shape), print(y_train.shape)\n",
        "print(X_val.shape), print(y_val.shape)"
      ]
    },
    {
      "cell_type": "markdown",
      "source": [
        "**MODEL FIT INITIAL - PERFORMANCE, LEARNING CURVES, EARLY STOPPING**"
      ],
      "metadata": {
        "id": "nrfydtQ05pNq"
      }
    },
    {
      "cell_type": "code",
      "execution_count": 10,
      "metadata": {
        "colab": {
          "base_uri": "https://localhost:8080/"
        },
        "id": "WwvymUqzLuFO",
        "outputId": "ae90c572-deda-4461-dd76-27c1fda23a07"
      },
      "outputs": [
        {
          "output_type": "stream",
          "name": "stdout",
          "text": [
            "--- 2.544604778289795 seconds ---\n"
          ]
        }
      ],
      "source": [
        "# Model fitting - default/initial\n",
        "\n",
        "start_time = time.time()\n",
        "xgb_model = XGBRegressor().fit(X_train, y_train)\n",
        "print(\"--- %s seconds ---\" % (time.time() - start_time))\n",
        "\n",
        "# early_stopping_rounds=10, eval_metric=[\"mae\",\"rmse\"], eval_set=eval_set, verbose=True"
      ]
    },
    {
      "cell_type": "markdown",
      "source": [
        "**MODEL PREDICTIONS - INITIAL**"
      ],
      "metadata": {
        "id": "MT18yrLJlynV"
      }
    },
    {
      "cell_type": "code",
      "source": [
        "# Prediction on test/val set - default/initial\n",
        "start_time = time.time()\n",
        "y_pred_ts1 = xgb_model.predict(X_val)\n",
        "print(\"--- %s seconds ---\" % (time.time() - start_time))"
      ],
      "metadata": {
        "id": "z5a0AsVAoAts"
      },
      "execution_count": null,
      "outputs": []
    },
    {
      "cell_type": "code",
      "source": [
        "# Prediction on training set - default/initial\n",
        "\n",
        "start_time = time.time()\n",
        "y_pred_tr1 = xgb_model.predict(X_train)\n",
        "print(\"--- %s seconds ---\" % (time.time() - start_time))"
      ],
      "metadata": {
        "colab": {
          "base_uri": "https://localhost:8080/"
        },
        "id": "hLmO18HSoBpj",
        "outputId": "21709a14-88cf-4fef-c585-9a0f8f54529d"
      },
      "execution_count": 12,
      "outputs": [
        {
          "output_type": "stream",
          "name": "stdout",
          "text": [
            "--- 0.07611441612243652 seconds ---\n"
          ]
        }
      ]
    },
    {
      "cell_type": "markdown",
      "source": [
        "**EXPORT Y_VAL AND Y_PRED FOR PLOTTING**"
      ],
      "metadata": {
        "id": "ozsddBjUmjv6"
      }
    },
    {
      "cell_type": "code",
      "source": [
        "from google.colab import drive\n",
        "drive.mount('/content/drive')"
      ],
      "metadata": {
        "id": "JtDx7VPtUY3_"
      },
      "execution_count": null,
      "outputs": []
    },
    {
      "cell_type": "code",
      "source": [
        "# convert array into dataframe\n",
        "DFpred = pd.DataFrame(y_pred_ts1)\n",
        "DFval = pd.DataFrame(y_val)\n",
        "\n",
        "# save the dataframe as a csv file\n",
        "DFpred.to_csv(\"/content/drive/My Drive/GITHUB_init_xgb_cop_cult_y_pred_ts1.csv\", index = False, header=True)\n",
        "DFval.to_csv(\"/content/drive/My Drive/GITHUB_init_xgb_cop_cult_y_val.csv\", index = False, header=True)\n",
        "\n",
        "# read saved csvs\n",
        "DFpred_csv = pd.read_csv(\"/content/drive/My Drive/GITHUB_init_xgb_cop_cult_y_pred_ts1.csv\")\n",
        "DFval_csv = pd.read_csv(\"/content/drive/My Drive/GITHUB_init_xgb_cop_cult_y_val.csv\")\n",
        "\n",
        "# Merge files\n",
        "DFmerge_csv = pd.concat([DFpred_csv, DFval_csv], axis=1)\n",
        "\n",
        "# Save to csv\n",
        "DFmerge_csv.to_csv(\"/content/drive/My Drive/GITHUB_init_xgb_cop_cult_y_pred_y_val_merge.csv\", index = False, header=True)"
      ],
      "metadata": {
        "id": "gB-kuUhcTAe-"
      },
      "execution_count": null,
      "outputs": []
    },
    {
      "cell_type": "markdown",
      "source": [
        "**PREDICTION ERROR - INITIAL**"
      ],
      "metadata": {
        "id": "Pb4noUT_6tGY"
      }
    },
    {
      "cell_type": "code",
      "source": [
        "# Test Error -  default/initial\n",
        "test_mae1 = mean_absolute_error(y_val, y_pred_ts1)\n",
        "test_mdae1 = median_absolute_error(y_val, y_pred_ts1) #robust to outliers\n",
        "test_mse1 = mean_squared_error(y_val, y_pred_ts1)\n",
        "test_rmse1 = mean_squared_error(y_val, y_pred_ts1, squared=False)\n",
        "test_maxe1 = max_error(y_val, y_pred_ts1)\n",
        "test_mape1 = mean_absolute_percentage_error(y_val, y_pred_ts1)\n",
        "test_R21 = r2_score(y_val, y_pred_ts1)"
      ],
      "metadata": {
        "id": "cdjlN2xVoQRf"
      },
      "execution_count": null,
      "outputs": []
    },
    {
      "cell_type": "code",
      "source": [
        "# Print Test Error - default/initial\n",
        "\n",
        "print(\"\\n\")\n",
        "print(\"Test error - initial\")\n",
        "print(\"test_mae:\")\n",
        "print(test_mae1)\n",
        "print(\"test_mdae:\")\n",
        "print(test_mdae1)\n",
        "print(\"test_mse:\")\n",
        "print(test_mse1)\n",
        "print(\"test_rmse:\")\n",
        "print(test_rmse1)\n",
        "print(\"test_maxe:\")\n",
        "print(test_maxe1)\n",
        "print(\"test_mape:\")\n",
        "print(test_mape1)\n",
        "print(\"test_R2:\")\n",
        "print(test_R21)"
      ],
      "metadata": {
        "id": "O1HSUvMpocON"
      },
      "execution_count": null,
      "outputs": []
    },
    {
      "cell_type": "code",
      "source": [
        "# Train Error - initial\n",
        "\n",
        "train_mae1 = mean_absolute_error(y_train, y_pred_tr1)\n",
        "train_mdae1 = median_absolute_error(y_train, y_pred_tr1) #robust to outliers\n",
        "train_mse1 = mean_squared_error(y_train, y_pred_tr1)\n",
        "train_rmse1 = mean_squared_error(y_train, y_pred_tr1, squared=False)\n",
        "train_maxe1 = max_error(y_train, y_pred_tr1)\n",
        "train_mape1 = mean_absolute_percentage_error(y_train, y_pred_tr1)\n",
        "train_R21 = r2_score(y_train, y_pred_tr1)"
      ],
      "metadata": {
        "id": "QLgiyUdApZBz"
      },
      "execution_count": null,
      "outputs": []
    },
    {
      "cell_type": "code",
      "source": [
        "# Print Train Error - initial\n",
        "print(\"\\n\")\n",
        "print(\"Train error - initial\")\n",
        "print(\"train_mae:\")\n",
        "print(train_mae1)\n",
        "print(\"train_mdae:\")\n",
        "print(train_mdae1)\n",
        "print(\"train_mse:\")\n",
        "print(train_mse1)\n",
        "print(\"train_rmse:\")\n",
        "print(train_rmse1)\n",
        "print(\"train_maxe:\")\n",
        "print(train_maxe1)\n",
        "print(\"trrain_mape:\")\n",
        "print(train_mape1)\n",
        "print(\"train_R2:\")\n",
        "print(train_R21)"
      ],
      "metadata": {
        "id": "9ht0VJxoptLL"
      },
      "execution_count": null,
      "outputs": []
    },
    {
      "cell_type": "markdown",
      "source": [
        "**MODEL EXPLAINABILITY - PARTIAL DEPENDENCE PLOTS (PDP) AND SHAP VALUES PDP -** https://pdpbox.readthedocs.io/en/latest/pdp_plot.html"
      ],
      "metadata": {
        "id": "zxZ8no0B8Sh7"
      }
    },
    {
      "cell_type": "code",
      "source": [
        "features = ['Elevation (m)','Slope (°)','Aspect (°)','Surface Roughness','Topographic Position Index','Terrain Ruggedness Index','Terrain Surface Texture','Vector Ruggedness Measure']\n"
      ],
      "metadata": {
        "id": "qS3nOXf377yH"
      },
      "execution_count": null,
      "outputs": []
    },
    {
      "cell_type": "code",
      "source": [
        "# Feature importance - default/initial\n",
        "xgb_model.feature_importances_"
      ],
      "metadata": {
        "id": "e_jZRZZ58XYX"
      },
      "execution_count": null,
      "outputs": []
    },
    {
      "cell_type": "code",
      "source": [
        "# Plot feature importance - default/initial\n",
        "plt.barh(features, xgb_model.feature_importances_)"
      ],
      "metadata": {
        "id": "v-VBd6wK8ZxP"
      },
      "execution_count": null,
      "outputs": []
    },
    {
      "cell_type": "code",
      "source": [
        "# Plot F_score - default/initial\n",
        "plot_importance(xgb_model)\n",
        "plt.show()"
      ],
      "metadata": {
        "id": "s6qCSt8j8czR"
      },
      "execution_count": null,
      "outputs": []
    },
    {
      "cell_type": "markdown",
      "source": [
        "**SAVE MODEL**"
      ],
      "metadata": {
        "id": "-AMAduTVzMen"
      }
    },
    {
      "cell_type": "code",
      "source": [
        "from google.colab import drive\n",
        "drive.mount('/content/drive')"
      ],
      "metadata": {
        "id": "m1NF_Vb9WnrP"
      },
      "execution_count": null,
      "outputs": []
    },
    {
      "cell_type": "code",
      "source": [
        "# save model with joblib - intial\n",
        "joblib.dump(xgb_model, \"/content/drive/My Drive/GITHUB_default_xgb_cop_41_43.joblib\")"
      ],
      "metadata": {
        "id": "ftxEVa7rXQ6X"
      },
      "execution_count": null,
      "outputs": []
    },
    {
      "cell_type": "markdown",
      "source": [
        "**SITE B VALIDATION - INITIAL**"
      ],
      "metadata": {
        "id": "alBbwk38zbgn"
      }
    },
    {
      "cell_type": "code",
      "source": [
        "# Load models\n",
        "\n",
        "default_model = joblib.load(\"/content/drive/My Drive/GITHUB_default_xgb_cop_41_43.joblib\")"
      ],
      "metadata": {
        "colab": {
          "base_uri": "https://localhost:8080/"
        },
        "id": "vV4ow00Czcw_",
        "outputId": "bafb3e5c-5ef7-4ebe-da65-0b102b45d1d5"
      },
      "execution_count": null,
      "outputs": [
        {
          "output_type": "stream",
          "name": "stdout",
          "text": [
            "[17:12:58] WARNING: /workspace/src/objective/regression_obj.cu:152: reg:linear is now deprecated in favor of reg:squarederror.\n"
          ]
        }
      ]
    },
    {
      "cell_type": "code",
      "source": [
        "# Import independent validation data - all sites\n",
        "from google.colab import files\n",
        "uploaded = files.upload()"
      ],
      "metadata": {
        "colab": {
          "base_uri": "https://localhost:8080/",
          "height": 210
        },
        "id": "EAwYxHlfzh_v",
        "outputId": "bc43f5c8-2222-4596-bb87-21b055ce1aa8"
      },
      "execution_count": null,
      "outputs": [
        {
          "output_type": "display_data",
          "data": {
            "text/plain": [
              "<IPython.core.display.HTML object>"
            ],
            "text/html": [
              "\n",
              "     <input type=\"file\" id=\"files-2e32f470-6882-4999-9744-0fbb8a674564\" name=\"files[]\" multiple disabled\n",
              "        style=\"border:none\" />\n",
              "     <output id=\"result-2e32f470-6882-4999-9744-0fbb8a674564\">\n",
              "      Upload widget is only available when the cell has been executed in the\n",
              "      current browser session. Please rerun this cell to enable.\n",
              "      </output>\n",
              "      <script>// Copyright 2017 Google LLC\n",
              "//\n",
              "// Licensed under the Apache License, Version 2.0 (the \"License\");\n",
              "// you may not use this file except in compliance with the License.\n",
              "// You may obtain a copy of the License at\n",
              "//\n",
              "//      http://www.apache.org/licenses/LICENSE-2.0\n",
              "//\n",
              "// Unless required by applicable law or agreed to in writing, software\n",
              "// distributed under the License is distributed on an \"AS IS\" BASIS,\n",
              "// WITHOUT WARRANTIES OR CONDITIONS OF ANY KIND, either express or implied.\n",
              "// See the License for the specific language governing permissions and\n",
              "// limitations under the License.\n",
              "\n",
              "/**\n",
              " * @fileoverview Helpers for google.colab Python module.\n",
              " */\n",
              "(function(scope) {\n",
              "function span(text, styleAttributes = {}) {\n",
              "  const element = document.createElement('span');\n",
              "  element.textContent = text;\n",
              "  for (const key of Object.keys(styleAttributes)) {\n",
              "    element.style[key] = styleAttributes[key];\n",
              "  }\n",
              "  return element;\n",
              "}\n",
              "\n",
              "// Max number of bytes which will be uploaded at a time.\n",
              "const MAX_PAYLOAD_SIZE = 100 * 1024;\n",
              "\n",
              "function _uploadFiles(inputId, outputId) {\n",
              "  const steps = uploadFilesStep(inputId, outputId);\n",
              "  const outputElement = document.getElementById(outputId);\n",
              "  // Cache steps on the outputElement to make it available for the next call\n",
              "  // to uploadFilesContinue from Python.\n",
              "  outputElement.steps = steps;\n",
              "\n",
              "  return _uploadFilesContinue(outputId);\n",
              "}\n",
              "\n",
              "// This is roughly an async generator (not supported in the browser yet),\n",
              "// where there are multiple asynchronous steps and the Python side is going\n",
              "// to poll for completion of each step.\n",
              "// This uses a Promise to block the python side on completion of each step,\n",
              "// then passes the result of the previous step as the input to the next step.\n",
              "function _uploadFilesContinue(outputId) {\n",
              "  const outputElement = document.getElementById(outputId);\n",
              "  const steps = outputElement.steps;\n",
              "\n",
              "  const next = steps.next(outputElement.lastPromiseValue);\n",
              "  return Promise.resolve(next.value.promise).then((value) => {\n",
              "    // Cache the last promise value to make it available to the next\n",
              "    // step of the generator.\n",
              "    outputElement.lastPromiseValue = value;\n",
              "    return next.value.response;\n",
              "  });\n",
              "}\n",
              "\n",
              "/**\n",
              " * Generator function which is called between each async step of the upload\n",
              " * process.\n",
              " * @param {string} inputId Element ID of the input file picker element.\n",
              " * @param {string} outputId Element ID of the output display.\n",
              " * @return {!Iterable<!Object>} Iterable of next steps.\n",
              " */\n",
              "function* uploadFilesStep(inputId, outputId) {\n",
              "  const inputElement = document.getElementById(inputId);\n",
              "  inputElement.disabled = false;\n",
              "\n",
              "  const outputElement = document.getElementById(outputId);\n",
              "  outputElement.innerHTML = '';\n",
              "\n",
              "  const pickedPromise = new Promise((resolve) => {\n",
              "    inputElement.addEventListener('change', (e) => {\n",
              "      resolve(e.target.files);\n",
              "    });\n",
              "  });\n",
              "\n",
              "  const cancel = document.createElement('button');\n",
              "  inputElement.parentElement.appendChild(cancel);\n",
              "  cancel.textContent = 'Cancel upload';\n",
              "  const cancelPromise = new Promise((resolve) => {\n",
              "    cancel.onclick = () => {\n",
              "      resolve(null);\n",
              "    };\n",
              "  });\n",
              "\n",
              "  // Wait for the user to pick the files.\n",
              "  const files = yield {\n",
              "    promise: Promise.race([pickedPromise, cancelPromise]),\n",
              "    response: {\n",
              "      action: 'starting',\n",
              "    }\n",
              "  };\n",
              "\n",
              "  cancel.remove();\n",
              "\n",
              "  // Disable the input element since further picks are not allowed.\n",
              "  inputElement.disabled = true;\n",
              "\n",
              "  if (!files) {\n",
              "    return {\n",
              "      response: {\n",
              "        action: 'complete',\n",
              "      }\n",
              "    };\n",
              "  }\n",
              "\n",
              "  for (const file of files) {\n",
              "    const li = document.createElement('li');\n",
              "    li.append(span(file.name, {fontWeight: 'bold'}));\n",
              "    li.append(span(\n",
              "        `(${file.type || 'n/a'}) - ${file.size} bytes, ` +\n",
              "        `last modified: ${\n",
              "            file.lastModifiedDate ? file.lastModifiedDate.toLocaleDateString() :\n",
              "                                    'n/a'} - `));\n",
              "    const percent = span('0% done');\n",
              "    li.appendChild(percent);\n",
              "\n",
              "    outputElement.appendChild(li);\n",
              "\n",
              "    const fileDataPromise = new Promise((resolve) => {\n",
              "      const reader = new FileReader();\n",
              "      reader.onload = (e) => {\n",
              "        resolve(e.target.result);\n",
              "      };\n",
              "      reader.readAsArrayBuffer(file);\n",
              "    });\n",
              "    // Wait for the data to be ready.\n",
              "    let fileData = yield {\n",
              "      promise: fileDataPromise,\n",
              "      response: {\n",
              "        action: 'continue',\n",
              "      }\n",
              "    };\n",
              "\n",
              "    // Use a chunked sending to avoid message size limits. See b/62115660.\n",
              "    let position = 0;\n",
              "    do {\n",
              "      const length = Math.min(fileData.byteLength - position, MAX_PAYLOAD_SIZE);\n",
              "      const chunk = new Uint8Array(fileData, position, length);\n",
              "      position += length;\n",
              "\n",
              "      const base64 = btoa(String.fromCharCode.apply(null, chunk));\n",
              "      yield {\n",
              "        response: {\n",
              "          action: 'append',\n",
              "          file: file.name,\n",
              "          data: base64,\n",
              "        },\n",
              "      };\n",
              "\n",
              "      let percentDone = fileData.byteLength === 0 ?\n",
              "          100 :\n",
              "          Math.round((position / fileData.byteLength) * 100);\n",
              "      percent.textContent = `${percentDone}% done`;\n",
              "\n",
              "    } while (position < fileData.byteLength);\n",
              "  }\n",
              "\n",
              "  // All done.\n",
              "  yield {\n",
              "    response: {\n",
              "      action: 'complete',\n",
              "    }\n",
              "  };\n",
              "}\n",
              "\n",
              "scope.google = scope.google || {};\n",
              "scope.google.colab = scope.google.colab || {};\n",
              "scope.google.colab._files = {\n",
              "  _uploadFiles,\n",
              "  _uploadFilesContinue,\n",
              "};\n",
              "})(self);\n",
              "</script> "
            ]
          },
          "metadata": {}
        },
        {
          "output_type": "stream",
          "name": "stdout",
          "text": [
            "Saving LIDAR_30m_cubic_pts_clean_parameters_egm08_41_48_C_42.csv to LIDAR_30m_cubic_pts_clean_parameters_egm08_41_48_C_42.csv\n",
            "Saving LIDAR_30m_cubic_pts_clean_parameters_egm08_41_48_C_45.csv to LIDAR_30m_cubic_pts_clean_parameters_egm08_41_48_C_45.csv\n",
            "Saving LIDAR_30m_cubic_pts_clean_parameters_egm08_41_48_C_46.csv to LIDAR_30m_cubic_pts_clean_parameters_egm08_41_48_C_46.csv\n",
            "Saving LIDAR_30m_cubic_pts_clean_parameters_egm08_41_48_C_47.csv to LIDAR_30m_cubic_pts_clean_parameters_egm08_41_48_C_47.csv\n",
            "Saving LIDAR_30m_cubic_pts_clean_parameters_egm08_41_48_C_48.csv to LIDAR_30m_cubic_pts_clean_parameters_egm08_41_48_C_48.csv\n"
          ]
        }
      ]
    },
    {
      "cell_type": "code",
      "source": [
        "# specify predictor variables 42\n",
        "data42 = pd.read_csv(\"LIDAR_30m_cubic_pts_clean_parameters_egm08_41_48_C_42.csv\")\n",
        "data42 = data42.reset_index()\n",
        "X42,y42 = data42.iloc[:,7:15], data.iloc[:,6]\n",
        "X42"
      ],
      "metadata": {
        "colab": {
          "base_uri": "https://localhost:8080/",
          "height": 424
        },
        "id": "kPuU9gt6zkee",
        "outputId": "0700e034-2300-4ca7-ce81-5a5af4c86b0f"
      },
      "execution_count": null,
      "outputs": [
        {
          "output_type": "execute_result",
          "data": {
            "text/plain": [
              "        Elevation (m)  Slope (°)  Aspect (°)  Surface Roughness  \\\n",
              "0            132.9300    2.27006    0.003311            2.56882   \n",
              "1            291.6890   16.22810    0.006004           19.46120   \n",
              "2             70.3140    4.06604    0.006767            4.52854   \n",
              "3            228.5000    9.17943    0.012627           15.33150   \n",
              "4            111.3550    3.97560    0.013313            4.39862   \n",
              "...               ...        ...         ...                ...   \n",
              "134688        65.1505    3.70693  359.989000            4.26924   \n",
              "134689       109.3890    3.01079  359.990000            3.55148   \n",
              "134690       136.3010    2.17084  359.990000            2.58942   \n",
              "134691        88.2406    1.05919  359.993000            1.37218   \n",
              "134692        48.1648    2.25466  359.997000            4.12695   \n",
              "\n",
              "        Topographic Position Index  Terrain Ruggedness Index  \\\n",
              "0                         0.035263                   2.84954   \n",
              "1                         1.885620                  21.74080   \n",
              "2                         0.142006                   5.26427   \n",
              "3                        -2.908170                  15.86820   \n",
              "4                         0.046196                   5.05020   \n",
              "...                            ...                       ...   \n",
              "134688                    0.063347                   4.72448   \n",
              "134689                    0.126923                   3.98111   \n",
              "134690                    0.324005                   2.90553   \n",
              "134691                    0.371040                   1.83053   \n",
              "134692                   -1.548880                   5.90519   \n",
              "\n",
              "        Terrain Surface Texture  Vector Ruggedness Measure  \n",
              "0                      0.226378                   0.000019  \n",
              "1                     30.487200                   0.001672  \n",
              "2                      3.739870                   0.000031  \n",
              "3                     31.101200                   0.008856  \n",
              "4                      1.303700                   0.000048  \n",
              "...                         ...                        ...  \n",
              "134688                 1.955260                   0.000037  \n",
              "134689                 3.045820                   0.000013  \n",
              "134690                 0.906688                   0.000074  \n",
              "134691                 0.980032                   0.000101  \n",
              "134692                 5.130940                   0.002013  \n",
              "\n",
              "[134693 rows x 8 columns]"
            ],
            "text/html": [
              "\n",
              "  <div id=\"df-3c66fb7a-c739-4e0c-ade9-84fb5478c318\">\n",
              "    <div class=\"colab-df-container\">\n",
              "      <div>\n",
              "<style scoped>\n",
              "    .dataframe tbody tr th:only-of-type {\n",
              "        vertical-align: middle;\n",
              "    }\n",
              "\n",
              "    .dataframe tbody tr th {\n",
              "        vertical-align: top;\n",
              "    }\n",
              "\n",
              "    .dataframe thead th {\n",
              "        text-align: right;\n",
              "    }\n",
              "</style>\n",
              "<table border=\"1\" class=\"dataframe\">\n",
              "  <thead>\n",
              "    <tr style=\"text-align: right;\">\n",
              "      <th></th>\n",
              "      <th>Elevation (m)</th>\n",
              "      <th>Slope (°)</th>\n",
              "      <th>Aspect (°)</th>\n",
              "      <th>Surface Roughness</th>\n",
              "      <th>Topographic Position Index</th>\n",
              "      <th>Terrain Ruggedness Index</th>\n",
              "      <th>Terrain Surface Texture</th>\n",
              "      <th>Vector Ruggedness Measure</th>\n",
              "    </tr>\n",
              "  </thead>\n",
              "  <tbody>\n",
              "    <tr>\n",
              "      <th>0</th>\n",
              "      <td>132.9300</td>\n",
              "      <td>2.27006</td>\n",
              "      <td>0.003311</td>\n",
              "      <td>2.56882</td>\n",
              "      <td>0.035263</td>\n",
              "      <td>2.84954</td>\n",
              "      <td>0.226378</td>\n",
              "      <td>0.000019</td>\n",
              "    </tr>\n",
              "    <tr>\n",
              "      <th>1</th>\n",
              "      <td>291.6890</td>\n",
              "      <td>16.22810</td>\n",
              "      <td>0.006004</td>\n",
              "      <td>19.46120</td>\n",
              "      <td>1.885620</td>\n",
              "      <td>21.74080</td>\n",
              "      <td>30.487200</td>\n",
              "      <td>0.001672</td>\n",
              "    </tr>\n",
              "    <tr>\n",
              "      <th>2</th>\n",
              "      <td>70.3140</td>\n",
              "      <td>4.06604</td>\n",
              "      <td>0.006767</td>\n",
              "      <td>4.52854</td>\n",
              "      <td>0.142006</td>\n",
              "      <td>5.26427</td>\n",
              "      <td>3.739870</td>\n",
              "      <td>0.000031</td>\n",
              "    </tr>\n",
              "    <tr>\n",
              "      <th>3</th>\n",
              "      <td>228.5000</td>\n",
              "      <td>9.17943</td>\n",
              "      <td>0.012627</td>\n",
              "      <td>15.33150</td>\n",
              "      <td>-2.908170</td>\n",
              "      <td>15.86820</td>\n",
              "      <td>31.101200</td>\n",
              "      <td>0.008856</td>\n",
              "    </tr>\n",
              "    <tr>\n",
              "      <th>4</th>\n",
              "      <td>111.3550</td>\n",
              "      <td>3.97560</td>\n",
              "      <td>0.013313</td>\n",
              "      <td>4.39862</td>\n",
              "      <td>0.046196</td>\n",
              "      <td>5.05020</td>\n",
              "      <td>1.303700</td>\n",
              "      <td>0.000048</td>\n",
              "    </tr>\n",
              "    <tr>\n",
              "      <th>...</th>\n",
              "      <td>...</td>\n",
              "      <td>...</td>\n",
              "      <td>...</td>\n",
              "      <td>...</td>\n",
              "      <td>...</td>\n",
              "      <td>...</td>\n",
              "      <td>...</td>\n",
              "      <td>...</td>\n",
              "    </tr>\n",
              "    <tr>\n",
              "      <th>134688</th>\n",
              "      <td>65.1505</td>\n",
              "      <td>3.70693</td>\n",
              "      <td>359.989000</td>\n",
              "      <td>4.26924</td>\n",
              "      <td>0.063347</td>\n",
              "      <td>4.72448</td>\n",
              "      <td>1.955260</td>\n",
              "      <td>0.000037</td>\n",
              "    </tr>\n",
              "    <tr>\n",
              "      <th>134689</th>\n",
              "      <td>109.3890</td>\n",
              "      <td>3.01079</td>\n",
              "      <td>359.990000</td>\n",
              "      <td>3.55148</td>\n",
              "      <td>0.126923</td>\n",
              "      <td>3.98111</td>\n",
              "      <td>3.045820</td>\n",
              "      <td>0.000013</td>\n",
              "    </tr>\n",
              "    <tr>\n",
              "      <th>134690</th>\n",
              "      <td>136.3010</td>\n",
              "      <td>2.17084</td>\n",
              "      <td>359.990000</td>\n",
              "      <td>2.58942</td>\n",
              "      <td>0.324005</td>\n",
              "      <td>2.90553</td>\n",
              "      <td>0.906688</td>\n",
              "      <td>0.000074</td>\n",
              "    </tr>\n",
              "    <tr>\n",
              "      <th>134691</th>\n",
              "      <td>88.2406</td>\n",
              "      <td>1.05919</td>\n",
              "      <td>359.993000</td>\n",
              "      <td>1.37218</td>\n",
              "      <td>0.371040</td>\n",
              "      <td>1.83053</td>\n",
              "      <td>0.980032</td>\n",
              "      <td>0.000101</td>\n",
              "    </tr>\n",
              "    <tr>\n",
              "      <th>134692</th>\n",
              "      <td>48.1648</td>\n",
              "      <td>2.25466</td>\n",
              "      <td>359.997000</td>\n",
              "      <td>4.12695</td>\n",
              "      <td>-1.548880</td>\n",
              "      <td>5.90519</td>\n",
              "      <td>5.130940</td>\n",
              "      <td>0.002013</td>\n",
              "    </tr>\n",
              "  </tbody>\n",
              "</table>\n",
              "<p>134693 rows × 8 columns</p>\n",
              "</div>\n",
              "      <button class=\"colab-df-convert\" onclick=\"convertToInteractive('df-3c66fb7a-c739-4e0c-ade9-84fb5478c318')\"\n",
              "              title=\"Convert this dataframe to an interactive table.\"\n",
              "              style=\"display:none;\">\n",
              "        \n",
              "  <svg xmlns=\"http://www.w3.org/2000/svg\" height=\"24px\"viewBox=\"0 0 24 24\"\n",
              "       width=\"24px\">\n",
              "    <path d=\"M0 0h24v24H0V0z\" fill=\"none\"/>\n",
              "    <path d=\"M18.56 5.44l.94 2.06.94-2.06 2.06-.94-2.06-.94-.94-2.06-.94 2.06-2.06.94zm-11 1L8.5 8.5l.94-2.06 2.06-.94-2.06-.94L8.5 2.5l-.94 2.06-2.06.94zm10 10l.94 2.06.94-2.06 2.06-.94-2.06-.94-.94-2.06-.94 2.06-2.06.94z\"/><path d=\"M17.41 7.96l-1.37-1.37c-.4-.4-.92-.59-1.43-.59-.52 0-1.04.2-1.43.59L10.3 9.45l-7.72 7.72c-.78.78-.78 2.05 0 2.83L4 21.41c.39.39.9.59 1.41.59.51 0 1.02-.2 1.41-.59l7.78-7.78 2.81-2.81c.8-.78.8-2.07 0-2.86zM5.41 20L4 18.59l7.72-7.72 1.47 1.35L5.41 20z\"/>\n",
              "  </svg>\n",
              "      </button>\n",
              "      \n",
              "  <style>\n",
              "    .colab-df-container {\n",
              "      display:flex;\n",
              "      flex-wrap:wrap;\n",
              "      gap: 12px;\n",
              "    }\n",
              "\n",
              "    .colab-df-convert {\n",
              "      background-color: #E8F0FE;\n",
              "      border: none;\n",
              "      border-radius: 50%;\n",
              "      cursor: pointer;\n",
              "      display: none;\n",
              "      fill: #1967D2;\n",
              "      height: 32px;\n",
              "      padding: 0 0 0 0;\n",
              "      width: 32px;\n",
              "    }\n",
              "\n",
              "    .colab-df-convert:hover {\n",
              "      background-color: #E2EBFA;\n",
              "      box-shadow: 0px 1px 2px rgba(60, 64, 67, 0.3), 0px 1px 3px 1px rgba(60, 64, 67, 0.15);\n",
              "      fill: #174EA6;\n",
              "    }\n",
              "\n",
              "    [theme=dark] .colab-df-convert {\n",
              "      background-color: #3B4455;\n",
              "      fill: #D2E3FC;\n",
              "    }\n",
              "\n",
              "    [theme=dark] .colab-df-convert:hover {\n",
              "      background-color: #434B5C;\n",
              "      box-shadow: 0px 1px 3px 1px rgba(0, 0, 0, 0.15);\n",
              "      filter: drop-shadow(0px 1px 2px rgba(0, 0, 0, 0.3));\n",
              "      fill: #FFFFFF;\n",
              "    }\n",
              "  </style>\n",
              "\n",
              "      <script>\n",
              "        const buttonEl =\n",
              "          document.querySelector('#df-3c66fb7a-c739-4e0c-ade9-84fb5478c318 button.colab-df-convert');\n",
              "        buttonEl.style.display =\n",
              "          google.colab.kernel.accessAllowed ? 'block' : 'none';\n",
              "\n",
              "        async function convertToInteractive(key) {\n",
              "          const element = document.querySelector('#df-3c66fb7a-c739-4e0c-ade9-84fb5478c318');\n",
              "          const dataTable =\n",
              "            await google.colab.kernel.invokeFunction('convertToInteractive',\n",
              "                                                     [key], {});\n",
              "          if (!dataTable) return;\n",
              "\n",
              "          const docLinkHtml = 'Like what you see? Visit the ' +\n",
              "            '<a target=\"_blank\" href=https://colab.research.google.com/notebooks/data_table.ipynb>data table notebook</a>'\n",
              "            + ' to learn more about interactive tables.';\n",
              "          element.innerHTML = '';\n",
              "          dataTable['output_type'] = 'display_data';\n",
              "          await google.colab.output.renderOutput(dataTable, element);\n",
              "          const docLink = document.createElement('div');\n",
              "          docLink.innerHTML = docLinkHtml;\n",
              "          element.appendChild(docLink);\n",
              "        }\n",
              "      </script>\n",
              "    </div>\n",
              "  </div>\n",
              "  "
            ]
          },
          "metadata": {},
          "execution_count": 10
        }
      ]
    },
    {
      "cell_type": "code",
      "source": [
        "# specify predictor variables 45\n",
        "data45 = pd.read_csv(\"LIDAR_30m_cubic_pts_clean_parameters_egm08_41_48_C_45.csv\")\n",
        "data45 = data45.reset_index()\n",
        "X45,y45 = data45.iloc[:,7:15], data.iloc[:,6]\n",
        "X45"
      ],
      "metadata": {
        "colab": {
          "base_uri": "https://localhost:8080/",
          "height": 424
        },
        "id": "ybOTNN3J15Ix",
        "outputId": "df4cb9a1-eb98-483e-c820-56275e01555e"
      },
      "execution_count": null,
      "outputs": [
        {
          "output_type": "execute_result",
          "data": {
            "text/plain": [
              "       Elevation (m)  Slope (°)  Aspect (°)  Surface Roughness  \\\n",
              "0           103.9960   0.453065    195.7410           1.047580   \n",
              "1           103.8440   0.552654    148.9600           0.752586   \n",
              "2           103.3850   0.533275    137.3810           0.827415   \n",
              "3           103.4450   0.277632     86.8515           0.446037   \n",
              "4           103.5700   0.178504    161.9240           0.588783   \n",
              "...              ...        ...         ...                ...   \n",
              "23104        68.7834   2.140730    113.9150           3.106870   \n",
              "23105        67.4714   2.366260    127.2090           3.121130   \n",
              "23106        66.6632   1.778120    170.1620           2.449580   \n",
              "23107        67.3502   1.947020    196.6660           2.321720   \n",
              "23108        67.4490   1.705910    188.1970           2.225910   \n",
              "\n",
              "       Topographic Position Index  Terrain Ruggedness Index  \\\n",
              "0                       -0.080650                  0.960945   \n",
              "1                        0.052429                  0.749441   \n",
              "2                       -0.281715                  1.070830   \n",
              "3                       -0.054588                  0.455196   \n",
              "4                        0.178185                  0.668764   \n",
              "...                           ...                       ...   \n",
              "23104                    0.046303                  2.881490   \n",
              "23105                   -0.391022                  3.218420   \n",
              "23106                   -0.705086                  3.093320   \n",
              "23107                    0.144646                  2.528060   \n",
              "23108                    0.016502                  2.170010   \n",
              "\n",
              "       Terrain Surface Texture  Vector Ruggedness Measure  \n",
              "0                     1.282610                   0.000073  \n",
              "1                     1.115240                   0.000006  \n",
              "2                     0.968426                   0.000015  \n",
              "3                     0.839689                   0.000013  \n",
              "4                     0.727287                   0.000017  \n",
              "...                        ...                        ...  \n",
              "23104                 0.500210                   0.000059  \n",
              "23105                 0.418520                   0.000116  \n",
              "23106                 0.347006                   0.000139  \n",
              "23107                 0.284882                   0.000017  \n",
              "23108                 0.231361                   0.000053  \n",
              "\n",
              "[23109 rows x 8 columns]"
            ],
            "text/html": [
              "\n",
              "  <div id=\"df-9f1764f0-3f78-4421-8a12-f259dabe2105\">\n",
              "    <div class=\"colab-df-container\">\n",
              "      <div>\n",
              "<style scoped>\n",
              "    .dataframe tbody tr th:only-of-type {\n",
              "        vertical-align: middle;\n",
              "    }\n",
              "\n",
              "    .dataframe tbody tr th {\n",
              "        vertical-align: top;\n",
              "    }\n",
              "\n",
              "    .dataframe thead th {\n",
              "        text-align: right;\n",
              "    }\n",
              "</style>\n",
              "<table border=\"1\" class=\"dataframe\">\n",
              "  <thead>\n",
              "    <tr style=\"text-align: right;\">\n",
              "      <th></th>\n",
              "      <th>Elevation (m)</th>\n",
              "      <th>Slope (°)</th>\n",
              "      <th>Aspect (°)</th>\n",
              "      <th>Surface Roughness</th>\n",
              "      <th>Topographic Position Index</th>\n",
              "      <th>Terrain Ruggedness Index</th>\n",
              "      <th>Terrain Surface Texture</th>\n",
              "      <th>Vector Ruggedness Measure</th>\n",
              "    </tr>\n",
              "  </thead>\n",
              "  <tbody>\n",
              "    <tr>\n",
              "      <th>0</th>\n",
              "      <td>103.9960</td>\n",
              "      <td>0.453065</td>\n",
              "      <td>195.7410</td>\n",
              "      <td>1.047580</td>\n",
              "      <td>-0.080650</td>\n",
              "      <td>0.960945</td>\n",
              "      <td>1.282610</td>\n",
              "      <td>0.000073</td>\n",
              "    </tr>\n",
              "    <tr>\n",
              "      <th>1</th>\n",
              "      <td>103.8440</td>\n",
              "      <td>0.552654</td>\n",
              "      <td>148.9600</td>\n",
              "      <td>0.752586</td>\n",
              "      <td>0.052429</td>\n",
              "      <td>0.749441</td>\n",
              "      <td>1.115240</td>\n",
              "      <td>0.000006</td>\n",
              "    </tr>\n",
              "    <tr>\n",
              "      <th>2</th>\n",
              "      <td>103.3850</td>\n",
              "      <td>0.533275</td>\n",
              "      <td>137.3810</td>\n",
              "      <td>0.827415</td>\n",
              "      <td>-0.281715</td>\n",
              "      <td>1.070830</td>\n",
              "      <td>0.968426</td>\n",
              "      <td>0.000015</td>\n",
              "    </tr>\n",
              "    <tr>\n",
              "      <th>3</th>\n",
              "      <td>103.4450</td>\n",
              "      <td>0.277632</td>\n",
              "      <td>86.8515</td>\n",
              "      <td>0.446037</td>\n",
              "      <td>-0.054588</td>\n",
              "      <td>0.455196</td>\n",
              "      <td>0.839689</td>\n",
              "      <td>0.000013</td>\n",
              "    </tr>\n",
              "    <tr>\n",
              "      <th>4</th>\n",
              "      <td>103.5700</td>\n",
              "      <td>0.178504</td>\n",
              "      <td>161.9240</td>\n",
              "      <td>0.588783</td>\n",
              "      <td>0.178185</td>\n",
              "      <td>0.668764</td>\n",
              "      <td>0.727287</td>\n",
              "      <td>0.000017</td>\n",
              "    </tr>\n",
              "    <tr>\n",
              "      <th>...</th>\n",
              "      <td>...</td>\n",
              "      <td>...</td>\n",
              "      <td>...</td>\n",
              "      <td>...</td>\n",
              "      <td>...</td>\n",
              "      <td>...</td>\n",
              "      <td>...</td>\n",
              "      <td>...</td>\n",
              "    </tr>\n",
              "    <tr>\n",
              "      <th>23104</th>\n",
              "      <td>68.7834</td>\n",
              "      <td>2.140730</td>\n",
              "      <td>113.9150</td>\n",
              "      <td>3.106870</td>\n",
              "      <td>0.046303</td>\n",
              "      <td>2.881490</td>\n",
              "      <td>0.500210</td>\n",
              "      <td>0.000059</td>\n",
              "    </tr>\n",
              "    <tr>\n",
              "      <th>23105</th>\n",
              "      <td>67.4714</td>\n",
              "      <td>2.366260</td>\n",
              "      <td>127.2090</td>\n",
              "      <td>3.121130</td>\n",
              "      <td>-0.391022</td>\n",
              "      <td>3.218420</td>\n",
              "      <td>0.418520</td>\n",
              "      <td>0.000116</td>\n",
              "    </tr>\n",
              "    <tr>\n",
              "      <th>23106</th>\n",
              "      <td>66.6632</td>\n",
              "      <td>1.778120</td>\n",
              "      <td>170.1620</td>\n",
              "      <td>2.449580</td>\n",
              "      <td>-0.705086</td>\n",
              "      <td>3.093320</td>\n",
              "      <td>0.347006</td>\n",
              "      <td>0.000139</td>\n",
              "    </tr>\n",
              "    <tr>\n",
              "      <th>23107</th>\n",
              "      <td>67.3502</td>\n",
              "      <td>1.947020</td>\n",
              "      <td>196.6660</td>\n",
              "      <td>2.321720</td>\n",
              "      <td>0.144646</td>\n",
              "      <td>2.528060</td>\n",
              "      <td>0.284882</td>\n",
              "      <td>0.000017</td>\n",
              "    </tr>\n",
              "    <tr>\n",
              "      <th>23108</th>\n",
              "      <td>67.4490</td>\n",
              "      <td>1.705910</td>\n",
              "      <td>188.1970</td>\n",
              "      <td>2.225910</td>\n",
              "      <td>0.016502</td>\n",
              "      <td>2.170010</td>\n",
              "      <td>0.231361</td>\n",
              "      <td>0.000053</td>\n",
              "    </tr>\n",
              "  </tbody>\n",
              "</table>\n",
              "<p>23109 rows × 8 columns</p>\n",
              "</div>\n",
              "      <button class=\"colab-df-convert\" onclick=\"convertToInteractive('df-9f1764f0-3f78-4421-8a12-f259dabe2105')\"\n",
              "              title=\"Convert this dataframe to an interactive table.\"\n",
              "              style=\"display:none;\">\n",
              "        \n",
              "  <svg xmlns=\"http://www.w3.org/2000/svg\" height=\"24px\"viewBox=\"0 0 24 24\"\n",
              "       width=\"24px\">\n",
              "    <path d=\"M0 0h24v24H0V0z\" fill=\"none\"/>\n",
              "    <path d=\"M18.56 5.44l.94 2.06.94-2.06 2.06-.94-2.06-.94-.94-2.06-.94 2.06-2.06.94zm-11 1L8.5 8.5l.94-2.06 2.06-.94-2.06-.94L8.5 2.5l-.94 2.06-2.06.94zm10 10l.94 2.06.94-2.06 2.06-.94-2.06-.94-.94-2.06-.94 2.06-2.06.94z\"/><path d=\"M17.41 7.96l-1.37-1.37c-.4-.4-.92-.59-1.43-.59-.52 0-1.04.2-1.43.59L10.3 9.45l-7.72 7.72c-.78.78-.78 2.05 0 2.83L4 21.41c.39.39.9.59 1.41.59.51 0 1.02-.2 1.41-.59l7.78-7.78 2.81-2.81c.8-.78.8-2.07 0-2.86zM5.41 20L4 18.59l7.72-7.72 1.47 1.35L5.41 20z\"/>\n",
              "  </svg>\n",
              "      </button>\n",
              "      \n",
              "  <style>\n",
              "    .colab-df-container {\n",
              "      display:flex;\n",
              "      flex-wrap:wrap;\n",
              "      gap: 12px;\n",
              "    }\n",
              "\n",
              "    .colab-df-convert {\n",
              "      background-color: #E8F0FE;\n",
              "      border: none;\n",
              "      border-radius: 50%;\n",
              "      cursor: pointer;\n",
              "      display: none;\n",
              "      fill: #1967D2;\n",
              "      height: 32px;\n",
              "      padding: 0 0 0 0;\n",
              "      width: 32px;\n",
              "    }\n",
              "\n",
              "    .colab-df-convert:hover {\n",
              "      background-color: #E2EBFA;\n",
              "      box-shadow: 0px 1px 2px rgba(60, 64, 67, 0.3), 0px 1px 3px 1px rgba(60, 64, 67, 0.15);\n",
              "      fill: #174EA6;\n",
              "    }\n",
              "\n",
              "    [theme=dark] .colab-df-convert {\n",
              "      background-color: #3B4455;\n",
              "      fill: #D2E3FC;\n",
              "    }\n",
              "\n",
              "    [theme=dark] .colab-df-convert:hover {\n",
              "      background-color: #434B5C;\n",
              "      box-shadow: 0px 1px 3px 1px rgba(0, 0, 0, 0.15);\n",
              "      filter: drop-shadow(0px 1px 2px rgba(0, 0, 0, 0.3));\n",
              "      fill: #FFFFFF;\n",
              "    }\n",
              "  </style>\n",
              "\n",
              "      <script>\n",
              "        const buttonEl =\n",
              "          document.querySelector('#df-9f1764f0-3f78-4421-8a12-f259dabe2105 button.colab-df-convert');\n",
              "        buttonEl.style.display =\n",
              "          google.colab.kernel.accessAllowed ? 'block' : 'none';\n",
              "\n",
              "        async function convertToInteractive(key) {\n",
              "          const element = document.querySelector('#df-9f1764f0-3f78-4421-8a12-f259dabe2105');\n",
              "          const dataTable =\n",
              "            await google.colab.kernel.invokeFunction('convertToInteractive',\n",
              "                                                     [key], {});\n",
              "          if (!dataTable) return;\n",
              "\n",
              "          const docLinkHtml = 'Like what you see? Visit the ' +\n",
              "            '<a target=\"_blank\" href=https://colab.research.google.com/notebooks/data_table.ipynb>data table notebook</a>'\n",
              "            + ' to learn more about interactive tables.';\n",
              "          element.innerHTML = '';\n",
              "          dataTable['output_type'] = 'display_data';\n",
              "          await google.colab.output.renderOutput(dataTable, element);\n",
              "          const docLink = document.createElement('div');\n",
              "          docLink.innerHTML = docLinkHtml;\n",
              "          element.appendChild(docLink);\n",
              "        }\n",
              "      </script>\n",
              "    </div>\n",
              "  </div>\n",
              "  "
            ]
          },
          "metadata": {},
          "execution_count": 11
        }
      ]
    },
    {
      "cell_type": "code",
      "source": [
        "# specify predictor variables 46\n",
        "data46 = pd.read_csv(\"LIDAR_30m_cubic_pts_clean_parameters_egm08_41_48_C_46.csv\")\n",
        "data46 = data46.reset_index()\n",
        "X46,y46 = data46.iloc[:,7:15], data.iloc[:,6]\n",
        "y46"
      ],
      "metadata": {
        "colab": {
          "base_uri": "https://localhost:8080/"
        },
        "id": "RpHJb2N_FHTm",
        "outputId": "e477964e-827c-4047-d9de-9776c50237b4"
      },
      "execution_count": null,
      "outputs": [
        {
          "output_type": "execute_result",
          "data": {
            "text/plain": [
              "0         0.139503\n",
              "1        -0.169899\n",
              "2        -0.324997\n",
              "3        -0.158798\n",
              "4         0.397400\n",
              "           ...    \n",
              "46172    12.073002\n",
              "46173     9.778599\n",
              "46174    12.559099\n",
              "46175     4.479000\n",
              "46176    12.201498\n",
              "Name: Elevation Diff, ∆h (m), Length: 46177, dtype: float64"
            ]
          },
          "metadata": {},
          "execution_count": 12
        }
      ]
    },
    {
      "cell_type": "code",
      "source": [
        "# specify predictor variables 47\n",
        "data47 = pd.read_csv(\"LIDAR_30m_cubic_pts_clean_parameters_egm08_41_48_C_47.csv\")\n",
        "data47 = data47.reset_index()\n",
        "X47,y47 = data47.iloc[:,7:15], data.iloc[:,6]\n",
        "X47"
      ],
      "metadata": {
        "colab": {
          "base_uri": "https://localhost:8080/",
          "height": 424
        },
        "id": "pDLTMUj6FHb2",
        "outputId": "869dd7d5-0ac2-48c0-ac8c-395f56b9c2eb"
      },
      "execution_count": null,
      "outputs": [
        {
          "output_type": "execute_result",
          "data": {
            "text/plain": [
              "       Elevation (m)  Slope (°)  Aspect (°)  Surface Roughness  \\\n",
              "0            76.6691    1.90379     292.460            2.44662   \n",
              "1            77.6992    2.04168     289.683            2.54646   \n",
              "2            78.7744    1.91523     288.737            2.62361   \n",
              "3            79.6084    1.52747     292.972            2.05497   \n",
              "4            80.2660    1.44484     296.495            2.10189   \n",
              "...              ...        ...         ...                ...   \n",
              "22361        83.8435    7.45492     192.945            9.80819   \n",
              "22362        84.6755    6.85136     196.435            9.80819   \n",
              "22363        67.0177    2.22333     123.136            2.57902   \n",
              "22364        66.1059    1.25423     137.226            2.24879   \n",
              "22365        67.8788    1.19790     114.825            2.37780   \n",
              "\n",
              "       Topographic Position Index  Terrain Ruggedness Index  \\\n",
              "0                       -0.087303                   2.40250   \n",
              "1                       -0.016968                   2.58818   \n",
              "2                        0.163498                   2.52600   \n",
              "3                        0.125603                   1.98260   \n",
              "4                        0.066925                   1.88907   \n",
              "...                           ...                       ...   \n",
              "22361                   -1.425050                  10.56960   \n",
              "22362                   -1.454430                   9.91485   \n",
              "22363                   -0.245445                   2.83598   \n",
              "22364                   -0.534721                   2.48880   \n",
              "22365                   -0.401566                   2.29270   \n",
              "\n",
              "       Terrain Surface Texture  Vector Ruggedness Measure  \n",
              "0                     0.000000                   0.000017  \n",
              "1                     0.000000                   0.000007  \n",
              "2                     0.000000                   0.000010  \n",
              "3                     0.000000                   0.000012  \n",
              "4                     0.000000                   0.000007  \n",
              "...                        ...                        ...  \n",
              "22361                 9.559250                   0.000963  \n",
              "22362                 9.786090                   0.001379  \n",
              "22363                 0.018838                   0.000120  \n",
              "22364                 0.019053                   0.000232  \n",
              "22365                 0.021248                   0.000160  \n",
              "\n",
              "[22366 rows x 8 columns]"
            ],
            "text/html": [
              "\n",
              "  <div id=\"df-28e0983c-8215-4edb-976d-4afda7ba37a9\">\n",
              "    <div class=\"colab-df-container\">\n",
              "      <div>\n",
              "<style scoped>\n",
              "    .dataframe tbody tr th:only-of-type {\n",
              "        vertical-align: middle;\n",
              "    }\n",
              "\n",
              "    .dataframe tbody tr th {\n",
              "        vertical-align: top;\n",
              "    }\n",
              "\n",
              "    .dataframe thead th {\n",
              "        text-align: right;\n",
              "    }\n",
              "</style>\n",
              "<table border=\"1\" class=\"dataframe\">\n",
              "  <thead>\n",
              "    <tr style=\"text-align: right;\">\n",
              "      <th></th>\n",
              "      <th>Elevation (m)</th>\n",
              "      <th>Slope (°)</th>\n",
              "      <th>Aspect (°)</th>\n",
              "      <th>Surface Roughness</th>\n",
              "      <th>Topographic Position Index</th>\n",
              "      <th>Terrain Ruggedness Index</th>\n",
              "      <th>Terrain Surface Texture</th>\n",
              "      <th>Vector Ruggedness Measure</th>\n",
              "    </tr>\n",
              "  </thead>\n",
              "  <tbody>\n",
              "    <tr>\n",
              "      <th>0</th>\n",
              "      <td>76.6691</td>\n",
              "      <td>1.90379</td>\n",
              "      <td>292.460</td>\n",
              "      <td>2.44662</td>\n",
              "      <td>-0.087303</td>\n",
              "      <td>2.40250</td>\n",
              "      <td>0.000000</td>\n",
              "      <td>0.000017</td>\n",
              "    </tr>\n",
              "    <tr>\n",
              "      <th>1</th>\n",
              "      <td>77.6992</td>\n",
              "      <td>2.04168</td>\n",
              "      <td>289.683</td>\n",
              "      <td>2.54646</td>\n",
              "      <td>-0.016968</td>\n",
              "      <td>2.58818</td>\n",
              "      <td>0.000000</td>\n",
              "      <td>0.000007</td>\n",
              "    </tr>\n",
              "    <tr>\n",
              "      <th>2</th>\n",
              "      <td>78.7744</td>\n",
              "      <td>1.91523</td>\n",
              "      <td>288.737</td>\n",
              "      <td>2.62361</td>\n",
              "      <td>0.163498</td>\n",
              "      <td>2.52600</td>\n",
              "      <td>0.000000</td>\n",
              "      <td>0.000010</td>\n",
              "    </tr>\n",
              "    <tr>\n",
              "      <th>3</th>\n",
              "      <td>79.6084</td>\n",
              "      <td>1.52747</td>\n",
              "      <td>292.972</td>\n",
              "      <td>2.05497</td>\n",
              "      <td>0.125603</td>\n",
              "      <td>1.98260</td>\n",
              "      <td>0.000000</td>\n",
              "      <td>0.000012</td>\n",
              "    </tr>\n",
              "    <tr>\n",
              "      <th>4</th>\n",
              "      <td>80.2660</td>\n",
              "      <td>1.44484</td>\n",
              "      <td>296.495</td>\n",
              "      <td>2.10189</td>\n",
              "      <td>0.066925</td>\n",
              "      <td>1.88907</td>\n",
              "      <td>0.000000</td>\n",
              "      <td>0.000007</td>\n",
              "    </tr>\n",
              "    <tr>\n",
              "      <th>...</th>\n",
              "      <td>...</td>\n",
              "      <td>...</td>\n",
              "      <td>...</td>\n",
              "      <td>...</td>\n",
              "      <td>...</td>\n",
              "      <td>...</td>\n",
              "      <td>...</td>\n",
              "      <td>...</td>\n",
              "    </tr>\n",
              "    <tr>\n",
              "      <th>22361</th>\n",
              "      <td>83.8435</td>\n",
              "      <td>7.45492</td>\n",
              "      <td>192.945</td>\n",
              "      <td>9.80819</td>\n",
              "      <td>-1.425050</td>\n",
              "      <td>10.56960</td>\n",
              "      <td>9.559250</td>\n",
              "      <td>0.000963</td>\n",
              "    </tr>\n",
              "    <tr>\n",
              "      <th>22362</th>\n",
              "      <td>84.6755</td>\n",
              "      <td>6.85136</td>\n",
              "      <td>196.435</td>\n",
              "      <td>9.80819</td>\n",
              "      <td>-1.454430</td>\n",
              "      <td>9.91485</td>\n",
              "      <td>9.786090</td>\n",
              "      <td>0.001379</td>\n",
              "    </tr>\n",
              "    <tr>\n",
              "      <th>22363</th>\n",
              "      <td>67.0177</td>\n",
              "      <td>2.22333</td>\n",
              "      <td>123.136</td>\n",
              "      <td>2.57902</td>\n",
              "      <td>-0.245445</td>\n",
              "      <td>2.83598</td>\n",
              "      <td>0.018838</td>\n",
              "      <td>0.000120</td>\n",
              "    </tr>\n",
              "    <tr>\n",
              "      <th>22364</th>\n",
              "      <td>66.1059</td>\n",
              "      <td>1.25423</td>\n",
              "      <td>137.226</td>\n",
              "      <td>2.24879</td>\n",
              "      <td>-0.534721</td>\n",
              "      <td>2.48880</td>\n",
              "      <td>0.019053</td>\n",
              "      <td>0.000232</td>\n",
              "    </tr>\n",
              "    <tr>\n",
              "      <th>22365</th>\n",
              "      <td>67.8788</td>\n",
              "      <td>1.19790</td>\n",
              "      <td>114.825</td>\n",
              "      <td>2.37780</td>\n",
              "      <td>-0.401566</td>\n",
              "      <td>2.29270</td>\n",
              "      <td>0.021248</td>\n",
              "      <td>0.000160</td>\n",
              "    </tr>\n",
              "  </tbody>\n",
              "</table>\n",
              "<p>22366 rows × 8 columns</p>\n",
              "</div>\n",
              "      <button class=\"colab-df-convert\" onclick=\"convertToInteractive('df-28e0983c-8215-4edb-976d-4afda7ba37a9')\"\n",
              "              title=\"Convert this dataframe to an interactive table.\"\n",
              "              style=\"display:none;\">\n",
              "        \n",
              "  <svg xmlns=\"http://www.w3.org/2000/svg\" height=\"24px\"viewBox=\"0 0 24 24\"\n",
              "       width=\"24px\">\n",
              "    <path d=\"M0 0h24v24H0V0z\" fill=\"none\"/>\n",
              "    <path d=\"M18.56 5.44l.94 2.06.94-2.06 2.06-.94-2.06-.94-.94-2.06-.94 2.06-2.06.94zm-11 1L8.5 8.5l.94-2.06 2.06-.94-2.06-.94L8.5 2.5l-.94 2.06-2.06.94zm10 10l.94 2.06.94-2.06 2.06-.94-2.06-.94-.94-2.06-.94 2.06-2.06.94z\"/><path d=\"M17.41 7.96l-1.37-1.37c-.4-.4-.92-.59-1.43-.59-.52 0-1.04.2-1.43.59L10.3 9.45l-7.72 7.72c-.78.78-.78 2.05 0 2.83L4 21.41c.39.39.9.59 1.41.59.51 0 1.02-.2 1.41-.59l7.78-7.78 2.81-2.81c.8-.78.8-2.07 0-2.86zM5.41 20L4 18.59l7.72-7.72 1.47 1.35L5.41 20z\"/>\n",
              "  </svg>\n",
              "      </button>\n",
              "      \n",
              "  <style>\n",
              "    .colab-df-container {\n",
              "      display:flex;\n",
              "      flex-wrap:wrap;\n",
              "      gap: 12px;\n",
              "    }\n",
              "\n",
              "    .colab-df-convert {\n",
              "      background-color: #E8F0FE;\n",
              "      border: none;\n",
              "      border-radius: 50%;\n",
              "      cursor: pointer;\n",
              "      display: none;\n",
              "      fill: #1967D2;\n",
              "      height: 32px;\n",
              "      padding: 0 0 0 0;\n",
              "      width: 32px;\n",
              "    }\n",
              "\n",
              "    .colab-df-convert:hover {\n",
              "      background-color: #E2EBFA;\n",
              "      box-shadow: 0px 1px 2px rgba(60, 64, 67, 0.3), 0px 1px 3px 1px rgba(60, 64, 67, 0.15);\n",
              "      fill: #174EA6;\n",
              "    }\n",
              "\n",
              "    [theme=dark] .colab-df-convert {\n",
              "      background-color: #3B4455;\n",
              "      fill: #D2E3FC;\n",
              "    }\n",
              "\n",
              "    [theme=dark] .colab-df-convert:hover {\n",
              "      background-color: #434B5C;\n",
              "      box-shadow: 0px 1px 3px 1px rgba(0, 0, 0, 0.15);\n",
              "      filter: drop-shadow(0px 1px 2px rgba(0, 0, 0, 0.3));\n",
              "      fill: #FFFFFF;\n",
              "    }\n",
              "  </style>\n",
              "\n",
              "      <script>\n",
              "        const buttonEl =\n",
              "          document.querySelector('#df-28e0983c-8215-4edb-976d-4afda7ba37a9 button.colab-df-convert');\n",
              "        buttonEl.style.display =\n",
              "          google.colab.kernel.accessAllowed ? 'block' : 'none';\n",
              "\n",
              "        async function convertToInteractive(key) {\n",
              "          const element = document.querySelector('#df-28e0983c-8215-4edb-976d-4afda7ba37a9');\n",
              "          const dataTable =\n",
              "            await google.colab.kernel.invokeFunction('convertToInteractive',\n",
              "                                                     [key], {});\n",
              "          if (!dataTable) return;\n",
              "\n",
              "          const docLinkHtml = 'Like what you see? Visit the ' +\n",
              "            '<a target=\"_blank\" href=https://colab.research.google.com/notebooks/data_table.ipynb>data table notebook</a>'\n",
              "            + ' to learn more about interactive tables.';\n",
              "          element.innerHTML = '';\n",
              "          dataTable['output_type'] = 'display_data';\n",
              "          await google.colab.output.renderOutput(dataTable, element);\n",
              "          const docLink = document.createElement('div');\n",
              "          docLink.innerHTML = docLinkHtml;\n",
              "          element.appendChild(docLink);\n",
              "        }\n",
              "      </script>\n",
              "    </div>\n",
              "  </div>\n",
              "  "
            ]
          },
          "metadata": {},
          "execution_count": 13
        }
      ]
    },
    {
      "cell_type": "code",
      "source": [
        "# specify predictor variables 48\n",
        "data48 = pd.read_csv(\"LIDAR_30m_cubic_pts_clean_parameters_egm08_41_48_C_48.csv\")\n",
        "data48 = data48.reset_index()\n",
        "X48,y48 = data48.iloc[:,7:15], data.iloc[:,6]\n",
        "y48"
      ],
      "metadata": {
        "colab": {
          "base_uri": "https://localhost:8080/"
        },
        "id": "y6cotSn3FHlV",
        "outputId": "ef42f3ea-08e3-4116-9b8b-0791fd650218"
      },
      "execution_count": null,
      "outputs": [
        {
          "output_type": "execute_result",
          "data": {
            "text/plain": [
              "0         0.139503\n",
              "1        -0.169899\n",
              "2        -0.324997\n",
              "3        -0.158798\n",
              "4         0.397400\n",
              "           ...    \n",
              "46172    12.073002\n",
              "46173     9.778599\n",
              "46174    12.559099\n",
              "46175     4.479000\n",
              "46176    12.201498\n",
              "Name: Elevation Diff, ∆h (m), Length: 46177, dtype: float64"
            ]
          },
          "metadata": {},
          "execution_count": 14
        }
      ]
    },
    {
      "cell_type": "code",
      "source": [
        "# Make a prediction - initial 42\n",
        "start_time = time.time()\n",
        "y_pred_init_42 = default_model.predict(X42)\n",
        "print(\"--- %s seconds ---\" % (time.time() - start_time))"
      ],
      "metadata": {
        "colab": {
          "base_uri": "https://localhost:8080/"
        },
        "id": "4XGIekk71PDQ",
        "outputId": "4fee6321-7bdc-47c3-8cc6-4281b26d59ad"
      },
      "execution_count": null,
      "outputs": [
        {
          "output_type": "stream",
          "name": "stdout",
          "text": [
            "--- 0.25528430938720703 seconds ---\n"
          ]
        }
      ]
    },
    {
      "cell_type": "code",
      "source": [
        "# Make a prediction - initial 45\n",
        "start_time = time.time()\n",
        "y_pred_init_45 = default_model.predict(X45)\n",
        "print(\"--- %s seconds ---\" % (time.time() - start_time))"
      ],
      "metadata": {
        "colab": {
          "base_uri": "https://localhost:8080/"
        },
        "id": "IkERFsUv2aV_",
        "outputId": "bc1313cd-9352-46f1-ea91-3d5e94c7d255"
      },
      "execution_count": null,
      "outputs": [
        {
          "output_type": "stream",
          "name": "stdout",
          "text": [
            "--- 0.04513096809387207 seconds ---\n"
          ]
        }
      ]
    },
    {
      "cell_type": "code",
      "source": [
        "# Make a prediction - initial 46\n",
        "start_time = time.time()\n",
        "y_pred_init_46 = default_model.predict(X46)\n",
        "print(\"--- %s seconds ---\" % (time.time() - start_time))"
      ],
      "metadata": {
        "colab": {
          "base_uri": "https://localhost:8080/"
        },
        "id": "sijQ3DxAFJOe",
        "outputId": "e96ee475-8d80-4ddb-9ca5-bcbf29e77114"
      },
      "execution_count": null,
      "outputs": [
        {
          "output_type": "stream",
          "name": "stdout",
          "text": [
            "--- 0.043659210205078125 seconds ---\n"
          ]
        }
      ]
    },
    {
      "cell_type": "code",
      "source": [
        "# Make a prediction - initial 47\n",
        "start_time = time.time()\n",
        "y_pred_init_47 = default_model.predict(X47)\n",
        "print(\"--- %s seconds ---\" % (time.time() - start_time))"
      ],
      "metadata": {
        "colab": {
          "base_uri": "https://localhost:8080/"
        },
        "id": "U0NIWq5TFJT6",
        "outputId": "5c3ea654-a803-4e06-b4b8-92c29b2ad775"
      },
      "execution_count": null,
      "outputs": [
        {
          "output_type": "stream",
          "name": "stdout",
          "text": [
            "--- 0.042532920837402344 seconds ---\n"
          ]
        }
      ]
    },
    {
      "cell_type": "code",
      "source": [
        "# Make a prediction - initial 48\n",
        "start_time = time.time()\n",
        "y_pred_init_48 = default_model.predict(X48)\n",
        "print(\"--- %s seconds ---\" % (time.time() - start_time))"
      ],
      "metadata": {
        "colab": {
          "base_uri": "https://localhost:8080/"
        },
        "id": "qp4mApliFJZ-",
        "outputId": "92252779-bc04-486e-b922-e2eb14f885ef"
      },
      "execution_count": null,
      "outputs": [
        {
          "output_type": "stream",
          "name": "stdout",
          "text": [
            "--- 0.04111504554748535 seconds ---\n"
          ]
        }
      ]
    },
    {
      "cell_type": "code",
      "source": [
        "# append new predictions to csv file - initial 42\n",
        "data42[\"C_HEM_init\"] = y_pred_init_42\n",
        "data42.to_csv(\"/content/drive/My Drive/LIDAR_30m_cubic_pts_clean_parameters_egm08_41_48_C_42_init_xgb_pred.csv\", index = False)"
      ],
      "metadata": {
        "id": "06e7YIc31TSu"
      },
      "execution_count": null,
      "outputs": []
    },
    {
      "cell_type": "code",
      "source": [
        "# append new predictions to csv file - initial 45\n",
        "data45[\"C_HEM_init\"] = y_pred_init_45\n",
        "data45.to_csv(\"/content/drive/My Drive/LIDAR_30m_cubic_pts_clean_parameters_egm08_41_48_C_45_init_xgb_pred.csv\", index = False)"
      ],
      "metadata": {
        "id": "txszJS_n-hRE"
      },
      "execution_count": null,
      "outputs": []
    },
    {
      "cell_type": "code",
      "source": [
        "# append new predictions to csv file - initial 46\n",
        "data46[\"C_HEM_init\"] = y_pred_init_46\n",
        "data46.to_csv(\"/content/drive/My Drive/LIDAR_30m_cubic_pts_clean_parameters_egm08_41_48_C_46_init_xgb_pred.csv\", index = False)"
      ],
      "metadata": {
        "id": "QB8xIV0x-ZrW"
      },
      "execution_count": null,
      "outputs": []
    },
    {
      "cell_type": "code",
      "source": [
        "# append new predictions to csv file - initial 47\n",
        "data47[\"C_HEM_init\"] = y_pred_init_47\n",
        "data47.to_csv(\"/content/drive/My Drive/LIDAR_30m_cubic_pts_clean_parameters_egm08_41_48_C_47_init_xgb_pred.csv\", index = False)"
      ],
      "metadata": {
        "id": "lyYh2N18FKXd"
      },
      "execution_count": null,
      "outputs": []
    },
    {
      "cell_type": "code",
      "source": [
        "# append new predictions to csv file - initial 48\n",
        "data48[\"C_HEM_init\"] = y_pred_init_48\n",
        "data48.to_csv(\"/content/drive/My Drive/LIDAR_30m_cubic_pts_clean_parameters_egm08_41_48_C_48_init_xgb_pred.csv\", index = False)"
      ],
      "metadata": {
        "id": "IxUKIWMxFKdd"
      },
      "execution_count": null,
      "outputs": []
    }
  ],
  "metadata": {
    "colab": {
      "provenance": [],
      "include_colab_link": true
    },
    "kernelspec": {
      "display_name": "Python 3",
      "name": "python3"
    },
    "language_info": {
      "name": "python"
    },
    "gpuClass": "standard"
  },
  "nbformat": 4,
  "nbformat_minor": 0
}